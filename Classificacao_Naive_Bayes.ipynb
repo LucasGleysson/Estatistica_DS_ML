{
  "nbformat": 4,
  "nbformat_minor": 0,
  "metadata": {
    "colab": {
      "provenance": [],
      "mount_file_id": "1Qn_Qn8iIr7MzJyWGI9kKseVhJ7sl5GMp",
      "authorship_tag": "ABX9TyOm64S/hcDUOrOEkIgPYDVt",
      "include_colab_link": true
    },
    "kernelspec": {
      "name": "python3",
      "display_name": "Python 3"
    },
    "language_info": {
      "name": "python"
    }
  },
  "cells": [
    {
      "cell_type": "markdown",
      "metadata": {
        "id": "view-in-github",
        "colab_type": "text"
      },
      "source": [
        "<a href=\"https://colab.research.google.com/github/LucasGleysson/Estatistica_DS_ML/blob/master/Classificacao_Naive_Bayes.ipynb\" target=\"_parent\"><img src=\"https://colab.research.google.com/assets/colab-badge.svg\" alt=\"Open In Colab\"/></a>"
      ]
    },
    {
      "cell_type": "markdown",
      "source": [
        "#Classificação\n",
        "\n",
        "É um tipo de classe de algoritmo de Machine Learning, que utiliza base históricas para aprender o comportamento dos dados, traçar linhas que dividem os dados e assim conseguir classificalos e rotulalos."
      ],
      "metadata": {
        "id": "helIUU6iJWla"
      }
    },
    {
      "cell_type": "markdown",
      "source": [
        "#Naive Bayes\n",
        "Algoritmo de classificação com base em probabilidade que utiliza uma \"Tabela de Probabilidade\" para saber qual a maior chance de um registro se encaixar numa determinada categoria. Quando entra um novo registro, ele irá calcular a combinação das caracteristica em cada uma das classificações.\n",
        "\n",
        "\n",
        "O importante para o Naive Bayes é que as variáveis sejam categóricas."
      ],
      "metadata": {
        "id": "LjsTXzWiGJvF"
      }
    },
    {
      "cell_type": "markdown",
      "source": [
        "#Classificação com dados Desbalanceados."
      ],
      "metadata": {
        "id": "ZZhgyh9pNhVi"
      }
    },
    {
      "cell_type": "markdown",
      "source": [
        "##Importação e visualização"
      ],
      "metadata": {
        "id": "_35bB6t6YgIT"
      }
    },
    {
      "cell_type": "code",
      "source": [
        "import random\n",
        "import pandas as pd\n",
        "import numpy as np\n",
        "import seaborn as sns\n",
        "from sklearn.model_selection import train_test_split"
      ],
      "metadata": {
        "id": "K2_o8jAVOL8L"
      },
      "execution_count": 38,
      "outputs": []
    },
    {
      "cell_type": "code",
      "source": [
        "data = pd.read_csv('/content/drive/MyDrive/Datasets/credit_data.csv')\n",
        "data"
      ],
      "metadata": {
        "colab": {
          "base_uri": "https://localhost:8080/",
          "height": 424
        },
        "id": "fc1NjWtXOSC5",
        "outputId": "b29c70a0-f18b-4b79-c290-56a666ab0fc5"
      },
      "execution_count": 39,
      "outputs": [
        {
          "output_type": "execute_result",
          "data": {
            "text/plain": [
              "      i#clientid        income        age         loan  c#default\n",
              "0              1  66155.925095  59.017015  8106.532131          0\n",
              "1              2  34415.153966  48.117153  6564.745018          0\n",
              "2              3  57317.170063  63.108049  8020.953296          0\n",
              "3              4  42709.534201  45.751972  6103.642260          0\n",
              "4              5  66952.688845  18.584336  8770.099235          1\n",
              "...          ...           ...        ...          ...        ...\n",
              "1995        1996  59221.044874  48.518179  1926.729397          0\n",
              "1996        1997  69516.127573  23.162104  3503.176156          0\n",
              "1997        1998  44311.449262  28.017167  5522.786693          1\n",
              "1998        1999  43756.056605  63.971796  1622.722598          0\n",
              "1999        2000  69436.579552  56.152617  7378.833599          0\n",
              "\n",
              "[2000 rows x 5 columns]"
            ],
            "text/html": [
              "\n",
              "  <div id=\"df-9c5d6f6d-624c-4b72-bbd6-a947b765f65d\">\n",
              "    <div class=\"colab-df-container\">\n",
              "      <div>\n",
              "<style scoped>\n",
              "    .dataframe tbody tr th:only-of-type {\n",
              "        vertical-align: middle;\n",
              "    }\n",
              "\n",
              "    .dataframe tbody tr th {\n",
              "        vertical-align: top;\n",
              "    }\n",
              "\n",
              "    .dataframe thead th {\n",
              "        text-align: right;\n",
              "    }\n",
              "</style>\n",
              "<table border=\"1\" class=\"dataframe\">\n",
              "  <thead>\n",
              "    <tr style=\"text-align: right;\">\n",
              "      <th></th>\n",
              "      <th>i#clientid</th>\n",
              "      <th>income</th>\n",
              "      <th>age</th>\n",
              "      <th>loan</th>\n",
              "      <th>c#default</th>\n",
              "    </tr>\n",
              "  </thead>\n",
              "  <tbody>\n",
              "    <tr>\n",
              "      <th>0</th>\n",
              "      <td>1</td>\n",
              "      <td>66155.925095</td>\n",
              "      <td>59.017015</td>\n",
              "      <td>8106.532131</td>\n",
              "      <td>0</td>\n",
              "    </tr>\n",
              "    <tr>\n",
              "      <th>1</th>\n",
              "      <td>2</td>\n",
              "      <td>34415.153966</td>\n",
              "      <td>48.117153</td>\n",
              "      <td>6564.745018</td>\n",
              "      <td>0</td>\n",
              "    </tr>\n",
              "    <tr>\n",
              "      <th>2</th>\n",
              "      <td>3</td>\n",
              "      <td>57317.170063</td>\n",
              "      <td>63.108049</td>\n",
              "      <td>8020.953296</td>\n",
              "      <td>0</td>\n",
              "    </tr>\n",
              "    <tr>\n",
              "      <th>3</th>\n",
              "      <td>4</td>\n",
              "      <td>42709.534201</td>\n",
              "      <td>45.751972</td>\n",
              "      <td>6103.642260</td>\n",
              "      <td>0</td>\n",
              "    </tr>\n",
              "    <tr>\n",
              "      <th>4</th>\n",
              "      <td>5</td>\n",
              "      <td>66952.688845</td>\n",
              "      <td>18.584336</td>\n",
              "      <td>8770.099235</td>\n",
              "      <td>1</td>\n",
              "    </tr>\n",
              "    <tr>\n",
              "      <th>...</th>\n",
              "      <td>...</td>\n",
              "      <td>...</td>\n",
              "      <td>...</td>\n",
              "      <td>...</td>\n",
              "      <td>...</td>\n",
              "    </tr>\n",
              "    <tr>\n",
              "      <th>1995</th>\n",
              "      <td>1996</td>\n",
              "      <td>59221.044874</td>\n",
              "      <td>48.518179</td>\n",
              "      <td>1926.729397</td>\n",
              "      <td>0</td>\n",
              "    </tr>\n",
              "    <tr>\n",
              "      <th>1996</th>\n",
              "      <td>1997</td>\n",
              "      <td>69516.127573</td>\n",
              "      <td>23.162104</td>\n",
              "      <td>3503.176156</td>\n",
              "      <td>0</td>\n",
              "    </tr>\n",
              "    <tr>\n",
              "      <th>1997</th>\n",
              "      <td>1998</td>\n",
              "      <td>44311.449262</td>\n",
              "      <td>28.017167</td>\n",
              "      <td>5522.786693</td>\n",
              "      <td>1</td>\n",
              "    </tr>\n",
              "    <tr>\n",
              "      <th>1998</th>\n",
              "      <td>1999</td>\n",
              "      <td>43756.056605</td>\n",
              "      <td>63.971796</td>\n",
              "      <td>1622.722598</td>\n",
              "      <td>0</td>\n",
              "    </tr>\n",
              "    <tr>\n",
              "      <th>1999</th>\n",
              "      <td>2000</td>\n",
              "      <td>69436.579552</td>\n",
              "      <td>56.152617</td>\n",
              "      <td>7378.833599</td>\n",
              "      <td>0</td>\n",
              "    </tr>\n",
              "  </tbody>\n",
              "</table>\n",
              "<p>2000 rows × 5 columns</p>\n",
              "</div>\n",
              "      <button class=\"colab-df-convert\" onclick=\"convertToInteractive('df-9c5d6f6d-624c-4b72-bbd6-a947b765f65d')\"\n",
              "              title=\"Convert this dataframe to an interactive table.\"\n",
              "              style=\"display:none;\">\n",
              "        \n",
              "  <svg xmlns=\"http://www.w3.org/2000/svg\" height=\"24px\"viewBox=\"0 0 24 24\"\n",
              "       width=\"24px\">\n",
              "    <path d=\"M0 0h24v24H0V0z\" fill=\"none\"/>\n",
              "    <path d=\"M18.56 5.44l.94 2.06.94-2.06 2.06-.94-2.06-.94-.94-2.06-.94 2.06-2.06.94zm-11 1L8.5 8.5l.94-2.06 2.06-.94-2.06-.94L8.5 2.5l-.94 2.06-2.06.94zm10 10l.94 2.06.94-2.06 2.06-.94-2.06-.94-.94-2.06-.94 2.06-2.06.94z\"/><path d=\"M17.41 7.96l-1.37-1.37c-.4-.4-.92-.59-1.43-.59-.52 0-1.04.2-1.43.59L10.3 9.45l-7.72 7.72c-.78.78-.78 2.05 0 2.83L4 21.41c.39.39.9.59 1.41.59.51 0 1.02-.2 1.41-.59l7.78-7.78 2.81-2.81c.8-.78.8-2.07 0-2.86zM5.41 20L4 18.59l7.72-7.72 1.47 1.35L5.41 20z\"/>\n",
              "  </svg>\n",
              "      </button>\n",
              "      \n",
              "  <style>\n",
              "    .colab-df-container {\n",
              "      display:flex;\n",
              "      flex-wrap:wrap;\n",
              "      gap: 12px;\n",
              "    }\n",
              "\n",
              "    .colab-df-convert {\n",
              "      background-color: #E8F0FE;\n",
              "      border: none;\n",
              "      border-radius: 50%;\n",
              "      cursor: pointer;\n",
              "      display: none;\n",
              "      fill: #1967D2;\n",
              "      height: 32px;\n",
              "      padding: 0 0 0 0;\n",
              "      width: 32px;\n",
              "    }\n",
              "\n",
              "    .colab-df-convert:hover {\n",
              "      background-color: #E2EBFA;\n",
              "      box-shadow: 0px 1px 2px rgba(60, 64, 67, 0.3), 0px 1px 3px 1px rgba(60, 64, 67, 0.15);\n",
              "      fill: #174EA6;\n",
              "    }\n",
              "\n",
              "    [theme=dark] .colab-df-convert {\n",
              "      background-color: #3B4455;\n",
              "      fill: #D2E3FC;\n",
              "    }\n",
              "\n",
              "    [theme=dark] .colab-df-convert:hover {\n",
              "      background-color: #434B5C;\n",
              "      box-shadow: 0px 1px 3px 1px rgba(0, 0, 0, 0.15);\n",
              "      filter: drop-shadow(0px 1px 2px rgba(0, 0, 0, 0.3));\n",
              "      fill: #FFFFFF;\n",
              "    }\n",
              "  </style>\n",
              "\n",
              "      <script>\n",
              "        const buttonEl =\n",
              "          document.querySelector('#df-9c5d6f6d-624c-4b72-bbd6-a947b765f65d button.colab-df-convert');\n",
              "        buttonEl.style.display =\n",
              "          google.colab.kernel.accessAllowed ? 'block' : 'none';\n",
              "\n",
              "        async function convertToInteractive(key) {\n",
              "          const element = document.querySelector('#df-9c5d6f6d-624c-4b72-bbd6-a947b765f65d');\n",
              "          const dataTable =\n",
              "            await google.colab.kernel.invokeFunction('convertToInteractive',\n",
              "                                                     [key], {});\n",
              "          if (!dataTable) return;\n",
              "\n",
              "          const docLinkHtml = 'Like what you see? Visit the ' +\n",
              "            '<a target=\"_blank\" href=https://colab.research.google.com/notebooks/data_table.ipynb>data table notebook</a>'\n",
              "            + ' to learn more about interactive tables.';\n",
              "          element.innerHTML = '';\n",
              "          dataTable['output_type'] = 'display_data';\n",
              "          await google.colab.output.renderOutput(dataTable, element);\n",
              "          const docLink = document.createElement('div');\n",
              "          docLink.innerHTML = docLinkHtml;\n",
              "          element.appendChild(docLink);\n",
              "        }\n",
              "      </script>\n",
              "    </div>\n",
              "  </div>\n",
              "  "
            ]
          },
          "metadata": {},
          "execution_count": 39
        }
      ]
    },
    {
      "cell_type": "markdown",
      "source": [
        "##Tratamento"
      ],
      "metadata": {
        "id": "1b-3UNKoYlLw"
      }
    },
    {
      "cell_type": "code",
      "source": [
        "data.columns = ['IdCliente','renda','idade','emprestimo','pago']\n",
        "\n",
        "data['idade'].fillna(data['idade'].median(), inplace=True)\n",
        "data['idade'] = data['idade'].astype(int)\n",
        "data['idade'].replace([-28,-52,-36], [28,52,36], inplace=True)\n",
        "data['pago'].replace([0,1], [1,0], inplace=True)\n",
        "data.head()"
      ],
      "metadata": {
        "colab": {
          "base_uri": "https://localhost:8080/",
          "height": 206
        },
        "id": "u3kb_vJDPHyY",
        "outputId": "970badb0-609f-4a62-def9-ce81d94506ae"
      },
      "execution_count": 40,
      "outputs": [
        {
          "output_type": "execute_result",
          "data": {
            "text/plain": [
              "   IdCliente         renda  idade   emprestimo  pago\n",
              "0          1  66155.925095     59  8106.532131     1\n",
              "1          2  34415.153966     48  6564.745018     1\n",
              "2          3  57317.170063     63  8020.953296     1\n",
              "3          4  42709.534201     45  6103.642260     1\n",
              "4          5  66952.688845     18  8770.099235     0"
            ],
            "text/html": [
              "\n",
              "  <div id=\"df-84b9bd9b-416a-490c-a949-f5bccc89885c\">\n",
              "    <div class=\"colab-df-container\">\n",
              "      <div>\n",
              "<style scoped>\n",
              "    .dataframe tbody tr th:only-of-type {\n",
              "        vertical-align: middle;\n",
              "    }\n",
              "\n",
              "    .dataframe tbody tr th {\n",
              "        vertical-align: top;\n",
              "    }\n",
              "\n",
              "    .dataframe thead th {\n",
              "        text-align: right;\n",
              "    }\n",
              "</style>\n",
              "<table border=\"1\" class=\"dataframe\">\n",
              "  <thead>\n",
              "    <tr style=\"text-align: right;\">\n",
              "      <th></th>\n",
              "      <th>IdCliente</th>\n",
              "      <th>renda</th>\n",
              "      <th>idade</th>\n",
              "      <th>emprestimo</th>\n",
              "      <th>pago</th>\n",
              "    </tr>\n",
              "  </thead>\n",
              "  <tbody>\n",
              "    <tr>\n",
              "      <th>0</th>\n",
              "      <td>1</td>\n",
              "      <td>66155.925095</td>\n",
              "      <td>59</td>\n",
              "      <td>8106.532131</td>\n",
              "      <td>1</td>\n",
              "    </tr>\n",
              "    <tr>\n",
              "      <th>1</th>\n",
              "      <td>2</td>\n",
              "      <td>34415.153966</td>\n",
              "      <td>48</td>\n",
              "      <td>6564.745018</td>\n",
              "      <td>1</td>\n",
              "    </tr>\n",
              "    <tr>\n",
              "      <th>2</th>\n",
              "      <td>3</td>\n",
              "      <td>57317.170063</td>\n",
              "      <td>63</td>\n",
              "      <td>8020.953296</td>\n",
              "      <td>1</td>\n",
              "    </tr>\n",
              "    <tr>\n",
              "      <th>3</th>\n",
              "      <td>4</td>\n",
              "      <td>42709.534201</td>\n",
              "      <td>45</td>\n",
              "      <td>6103.642260</td>\n",
              "      <td>1</td>\n",
              "    </tr>\n",
              "    <tr>\n",
              "      <th>4</th>\n",
              "      <td>5</td>\n",
              "      <td>66952.688845</td>\n",
              "      <td>18</td>\n",
              "      <td>8770.099235</td>\n",
              "      <td>0</td>\n",
              "    </tr>\n",
              "  </tbody>\n",
              "</table>\n",
              "</div>\n",
              "      <button class=\"colab-df-convert\" onclick=\"convertToInteractive('df-84b9bd9b-416a-490c-a949-f5bccc89885c')\"\n",
              "              title=\"Convert this dataframe to an interactive table.\"\n",
              "              style=\"display:none;\">\n",
              "        \n",
              "  <svg xmlns=\"http://www.w3.org/2000/svg\" height=\"24px\"viewBox=\"0 0 24 24\"\n",
              "       width=\"24px\">\n",
              "    <path d=\"M0 0h24v24H0V0z\" fill=\"none\"/>\n",
              "    <path d=\"M18.56 5.44l.94 2.06.94-2.06 2.06-.94-2.06-.94-.94-2.06-.94 2.06-2.06.94zm-11 1L8.5 8.5l.94-2.06 2.06-.94-2.06-.94L8.5 2.5l-.94 2.06-2.06.94zm10 10l.94 2.06.94-2.06 2.06-.94-2.06-.94-.94-2.06-.94 2.06-2.06.94z\"/><path d=\"M17.41 7.96l-1.37-1.37c-.4-.4-.92-.59-1.43-.59-.52 0-1.04.2-1.43.59L10.3 9.45l-7.72 7.72c-.78.78-.78 2.05 0 2.83L4 21.41c.39.39.9.59 1.41.59.51 0 1.02-.2 1.41-.59l7.78-7.78 2.81-2.81c.8-.78.8-2.07 0-2.86zM5.41 20L4 18.59l7.72-7.72 1.47 1.35L5.41 20z\"/>\n",
              "  </svg>\n",
              "      </button>\n",
              "      \n",
              "  <style>\n",
              "    .colab-df-container {\n",
              "      display:flex;\n",
              "      flex-wrap:wrap;\n",
              "      gap: 12px;\n",
              "    }\n",
              "\n",
              "    .colab-df-convert {\n",
              "      background-color: #E8F0FE;\n",
              "      border: none;\n",
              "      border-radius: 50%;\n",
              "      cursor: pointer;\n",
              "      display: none;\n",
              "      fill: #1967D2;\n",
              "      height: 32px;\n",
              "      padding: 0 0 0 0;\n",
              "      width: 32px;\n",
              "    }\n",
              "\n",
              "    .colab-df-convert:hover {\n",
              "      background-color: #E2EBFA;\n",
              "      box-shadow: 0px 1px 2px rgba(60, 64, 67, 0.3), 0px 1px 3px 1px rgba(60, 64, 67, 0.15);\n",
              "      fill: #174EA6;\n",
              "    }\n",
              "\n",
              "    [theme=dark] .colab-df-convert {\n",
              "      background-color: #3B4455;\n",
              "      fill: #D2E3FC;\n",
              "    }\n",
              "\n",
              "    [theme=dark] .colab-df-convert:hover {\n",
              "      background-color: #434B5C;\n",
              "      box-shadow: 0px 1px 3px 1px rgba(0, 0, 0, 0.15);\n",
              "      filter: drop-shadow(0px 1px 2px rgba(0, 0, 0, 0.3));\n",
              "      fill: #FFFFFF;\n",
              "    }\n",
              "  </style>\n",
              "\n",
              "      <script>\n",
              "        const buttonEl =\n",
              "          document.querySelector('#df-84b9bd9b-416a-490c-a949-f5bccc89885c button.colab-df-convert');\n",
              "        buttonEl.style.display =\n",
              "          google.colab.kernel.accessAllowed ? 'block' : 'none';\n",
              "\n",
              "        async function convertToInteractive(key) {\n",
              "          const element = document.querySelector('#df-84b9bd9b-416a-490c-a949-f5bccc89885c');\n",
              "          const dataTable =\n",
              "            await google.colab.kernel.invokeFunction('convertToInteractive',\n",
              "                                                     [key], {});\n",
              "          if (!dataTable) return;\n",
              "\n",
              "          const docLinkHtml = 'Like what you see? Visit the ' +\n",
              "            '<a target=\"_blank\" href=https://colab.research.google.com/notebooks/data_table.ipynb>data table notebook</a>'\n",
              "            + ' to learn more about interactive tables.';\n",
              "          element.innerHTML = '';\n",
              "          dataTable['output_type'] = 'display_data';\n",
              "          await google.colab.output.renderOutput(dataTable, element);\n",
              "          const docLink = document.createElement('div');\n",
              "          docLink.innerHTML = docLinkHtml;\n",
              "          element.appendChild(docLink);\n",
              "        }\n",
              "      </script>\n",
              "    </div>\n",
              "  </div>\n",
              "  "
            ]
          },
          "metadata": {},
          "execution_count": 40
        }
      ]
    },
    {
      "cell_type": "markdown",
      "source": [
        "##Análise"
      ],
      "metadata": {
        "id": "SyvD6iQ2Yq9U"
      }
    },
    {
      "cell_type": "code",
      "source": [
        "sns.countplot(x=data['pago']);"
      ],
      "metadata": {
        "colab": {
          "base_uri": "https://localhost:8080/",
          "height": 279
        },
        "id": "wr24fUg2Pl5h",
        "outputId": "fe041589-e1cd-4fe9-828c-ecec92b80418"
      },
      "execution_count": 41,
      "outputs": [
        {
          "output_type": "display_data",
          "data": {
            "text/plain": [
              "<Figure size 432x288 with 1 Axes>"
            ],
            "image/png": "[encoded data removed]"
          },
          "metadata": {
            "needs_background": "light"
          }
        }
      ]
    },
    {
      "cell_type": "markdown",
      "source": [
        "- Uma base de dados desbalanceada pode fazer o algoritmo aprender a lidar com a situação de uma forma errada, que não representa a realidade. Nesse caso, como a maioria dos clientes são pagantes, ele pode aprender que quase todos os clientes futuros irão pagar, liberando assim o crédito de uma maneira muito fácil e podendo dar prejuizo ao banco."
      ],
      "metadata": {
        "id": "_O5sLpjpXSGt"
      }
    },
    {
      "cell_type": "markdown",
      "source": [
        "## Divisão da base"
      ],
      "metadata": {
        "id": "GPlII4q4Yuki"
      }
    },
    {
      "cell_type": "markdown",
      "source": [
        "É necessário fazer uma divisão dos dados para o treinamento do algoritmo, criando duas bases de dados, uma com as variáveis que influenciam no resultado (Variáveis independentes) e outra apenas com as respostas (Variáveis dependentes)."
      ],
      "metadata": {
        "id": "7BY7MSnHusKf"
      }
    },
    {
      "cell_type": "code",
      "source": [
        "copy = data.copy()\n",
        "x = copy.drop(columns = ['IdCliente','pago'])\n",
        "y = copy['pago']\n",
        "x.shape, y.shape"
      ],
      "metadata": {
        "colab": {
          "base_uri": "https://localhost:8080/"
        },
        "id": "8QZHDjpUxGBS",
        "outputId": "0394692b-0fb5-4624-b79a-24356a5eea1f"
      },
      "execution_count": 42,
      "outputs": [
        {
          "output_type": "execute_result",
          "data": {
            "text/plain": [
              "((2000, 3), (2000,))"
            ]
          },
          "metadata": {},
          "execution_count": 42
        }
      ]
    },
    {
      "cell_type": "markdown",
      "source": [
        "De pois de dividir as duas bases de dados, agora fazemos mais uma divisão entre os dados de treino e os dados de teste."
      ],
      "metadata": {
        "id": "prYj23YFvOY6"
      }
    },
    {
      "cell_type": "code",
      "source": [
        "x_train,x_test, y_train,y_test = train_test_split(x, y, test_size=0.2, stratify=y)\n",
        "\n",
        "x_train.shape, x_test.shape, y_train.shape, y_test.shape"
      ],
      "metadata": {
        "id": "-RtyKEc3cjAA",
        "colab": {
          "base_uri": "https://localhost:8080/"
        },
        "outputId": "813e3d71-d4eb-4dfc-b7d2-65d10c80f744"
      },
      "execution_count": 43,
      "outputs": [
        {
          "output_type": "execute_result",
          "data": {
            "text/plain": [
              "((1600, 3), (400, 3), (1600,), (400,))"
            ]
          },
          "metadata": {},
          "execution_count": 43
        }
      ]
    },
    {
      "cell_type": "markdown",
      "source": [
        "##Naive Bayes"
      ],
      "metadata": {
        "id": "rpYQnIyF7BmR"
      }
    },
    {
      "cell_type": "code",
      "source": [
        "from sklearn.naive_bayes import GaussianNB\n",
        "from sklearn.metrics import accuracy_score"
      ],
      "metadata": {
        "id": "pyJeybbU18qq"
      },
      "execution_count": 44,
      "outputs": []
    },
    {
      "cell_type": "code",
      "source": [
        "# Criação e treinamento do modelo\n",
        "modelo =  GaussianNB()\n",
        "modelo.fit(x_train, y_train)\n",
        "\n",
        "# Previsões\n",
        "previsoes = modelo.predict(x_test)\n",
        "\n",
        "# Teste de acurácia para ver como o modelo se saiu\n",
        "display(accuracy_score(y_test, previsoes))"
      ],
      "metadata": {
        "colab": {
          "base_uri": "https://localhost:8080/",
          "height": 34
        },
        "id": "D8jT9ull43fk",
        "outputId": "1043e021-01e7-480a-f650-ed08bbc1116a"
      },
      "execution_count": 45,
      "outputs": [
        {
          "output_type": "display_data",
          "data": {
            "text/plain": [
              "0.91"
            ]
          },
          "metadata": {}
        }
      ]
    },
    {
      "cell_type": "markdown",
      "source": [
        "- A Acurácia é a média global do acerto do modelo ao classificar as classes, pode ser calculada através da razão (VN+VP)/(VP+FN+VN+FP).\n",
        "\n",
        "- A acuracia não é a melhor métrica para avaliar um modelo quando os dados estão desbalanceados."
      ],
      "metadata": {
        "id": "n3UZi1eKM5kH"
      }
    },
    {
      "cell_type": "code",
      "source": [
        "from sklearn.metrics import confusion_matrix\n",
        "cm = confusion_matrix(y_test, previsoes)\n",
        "sns.heatmap(cm,annot=True)"
      ],
      "metadata": {
        "colab": {
          "base_uri": "https://localhost:8080/",
          "height": 282
        },
        "id": "hvtViHp36wxG",
        "outputId": "3a59aff1-a6fc-4b79-b4bc-b410517de25d"
      },
      "execution_count": 46,
      "outputs": [
        {
          "output_type": "execute_result",
          "data": {
            "text/plain": [
              "<AxesSubplot:>"
            ]
          },
          "metadata": {},
          "execution_count": 46
        },
        {
          "output_type": "display_data",
          "data": {
            "text/plain": [
              "<Figure size 432x288 with 2 Axes>"
            ],
            "image/png": "[encoded data removed]"
          },
          "metadata": {
            "needs_background": "light"
          }
        }
      ]
    },
    {
      "cell_type": "markdown",
      "source": [
        "- A matrix de confusão nos ajuda a visualizar melhor os acertos e erros do modelo. "
      ],
      "metadata": {
        "id": "MiuncPtJNRC1"
      }
    },
    {
      "cell_type": "code",
      "source": [
        "# Essa é a ordem na classificação binária da confusion_matrix\n",
        "vn = cm[0][0]\n",
        "fn = cm[1][0]\n",
        "vp = cm[1][1]\n",
        "fp = cm[0][1]\n",
        "print(cm)\n",
        "print(f\"VP = {vp}\")\n",
        "print(f\"FP = {fp}\")\n",
        "print(f\"VN = {vn}\")\n",
        "print(f\"FN = {fn}\")"
      ],
      "metadata": {
        "colab": {
          "base_uri": "https://localhost:8080/"
        },
        "id": "nrroZLekTu5m",
        "outputId": "5beaae33-ae6e-40eb-a384-8e199a182257"
      },
      "execution_count": 61,
      "outputs": [
        {
          "output_type": "stream",
          "name": "stdout",
          "text": [
            "[[ 28  29]\n",
            " [  7 336]]\n",
            "VP = 336\n",
            "FP = 29\n",
            "VN = 28\n",
            "FN = 7\n"
          ]
        }
      ]
    },
    {
      "cell_type": "code",
      "source": [
        "# Formula da média global de acertos (Acuracy)\n",
        "(vp + vn) / (vp + fp + vn + fn)"
      ],
      "metadata": {
        "colab": {
          "base_uri": "https://localhost:8080/"
        },
        "id": "sP1_DWkITPks",
        "outputId": "49b63a3a-d343-4ea5-e239-29c0a6ee1454"
      },
      "execution_count": 62,
      "outputs": [
        {
          "output_type": "execute_result",
          "data": {
            "text/plain": [
              "0.91"
            ]
          },
          "metadata": {},
          "execution_count": 62
        }
      ]
    },
    {
      "cell_type": "code",
      "source": [
        "# Percentual de pessoas que pagaram o emprestimo\n",
        "round((vp) / (vp + fp), 2)"
      ],
      "metadata": {
        "colab": {
          "base_uri": "https://localhost:8080/"
        },
        "id": "l91GS87_OqYB",
        "outputId": "95258ab0-d1a6-4a18-efb8-84db830bd493"
      },
      "execution_count": 63,
      "outputs": [
        {
          "output_type": "execute_result",
          "data": {
            "text/plain": [
              "0.92"
            ]
          },
          "metadata": {},
          "execution_count": 63
        }
      ]
    },
    {
      "cell_type": "code",
      "source": [
        "# Percentual de pessoas que não pagaram o emprestimo\n",
        "round((vn) / (vn + fn), 2)"
      ],
      "metadata": {
        "id": "AYVBs4bMOqP7",
        "colab": {
          "base_uri": "https://localhost:8080/"
        },
        "outputId": "7475e80f-f385-4090-a1e2-1c2532e38dbe"
      },
      "execution_count": 64,
      "outputs": [
        {
          "output_type": "execute_result",
          "data": {
            "text/plain": [
              "0.8"
            ]
          },
          "metadata": {},
          "execution_count": 64
        }
      ]
    },
    {
      "cell_type": "code",
      "source": [
        "from sklearn.metrics import classification_report\n",
        "print(classification_report(y_test, previsoes))"
      ],
      "metadata": {
        "id": "fCtrIMLB_R6o",
        "colab": {
          "base_uri": "https://localhost:8080/"
        },
        "outputId": "9b0b6875-ac1d-45fb-c439-3dd24bbbbeff"
      },
      "execution_count": 51,
      "outputs": [
        {
          "output_type": "stream",
          "name": "stdout",
          "text": [
            "              precision    recall  f1-score   support\n",
            "\n",
            "           0       0.80      0.49      0.61        57\n",
            "           1       0.92      0.98      0.95       343\n",
            "\n",
            "    accuracy                           0.91       400\n",
            "   macro avg       0.86      0.74      0.78       400\n",
            "weighted avg       0.90      0.91      0.90       400\n",
            "\n"
          ]
        }
      ]
    },
    {
      "cell_type": "markdown",
      "source": [
        "Aqui, podemos ver algumas outras métricas do modelo para avaliar seu desempenho.\n",
        "\n",
        "- Precision: É intuitivamente a capacidade do classificador de não rotular como positiva uma amostra que é negativa: VP / (VP + FP)\n",
        " - Valor preditivo positivo: VP/(VP+FP)\n",
        " - Valor preditivo negativo: VN/(VN+FN)\n",
        "\n",
        "---\n",
        "\n",
        "- Recall: É intuitivamente a capacidade do classificador de encontrar todas as amostras positivas: VP / (VP + FN)\n",
        " - Sensibilidade: VP/(VP+FN)\n",
        " - Especificidade: VN/(VN+FP)\n",
        "\n",
        "---\n",
        " - F1-Score: É a média harmônica entre o Recall e Precision, ou seja, ela resume as informações dessas duas métricas."
      ],
      "metadata": {
        "id": "o1NPj-aYOKYQ"
      }
    },
    {
      "cell_type": "markdown",
      "source": [
        "## Aplicação de Caso\n",
        "\n",
        "Vamos supor que existem uma lista de 1000 clientes que não irão pagar o emprestimo, cada emprestimo não pago gera um prejuizo de $5000. Usando o modelo atual nos 1000 clientes, ele teria uma taxa de acerto de 80%.\n",
        "\n",
        "Ou seja, de 1000 pessoas, 200 receberiam o crédito, gerando assim um prejuizo de $100,000.\n",
        "\n",
        "O objetivo então é otimizar a porcentagem de acertos das predições, para assim evitar prejuizos."
      ],
      "metadata": {
        "id": "umMSY6WgE5cH"
      }
    },
    {
      "cell_type": "code",
      "source": [],
      "metadata": {
        "id": "7Bfzq456FT-s"
      },
      "execution_count": null,
      "outputs": []
    }
  ]
}
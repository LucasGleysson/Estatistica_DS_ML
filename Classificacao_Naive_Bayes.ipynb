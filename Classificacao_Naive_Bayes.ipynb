{
  "nbformat": 4,
  "nbformat_minor": 0,
  "metadata": {
    "colab": {
      "provenance": [],
      "toc_visible": true,
      "mount_file_id": "1Qn_Qn8iIr7MzJyWGI9kKseVhJ7sl5GMp",
      "authorship_tag": "ABX9TyP36sBfmzWMgIfB8/qdTYia",
      "include_colab_link": true
    },
    "kernelspec": {
      "name": "python3",
      "display_name": "Python 3"
    },
    "language_info": {
      "name": "python"
    }
  },
  "cells": [
    {
      "cell_type": "markdown",
      "metadata": {
        "id": "view-in-github",
        "colab_type": "text"
      },
      "source": [
        "<a href=\"https://colab.research.google.com/github/LucasGleysson/Estatistica_DS_ML/blob/master/Classificacao_Naive_Bayes.ipynb\" target=\"_parent\"><img src=\"https://colab.research.google.com/assets/colab-badge.svg\" alt=\"Open In Colab\"/></a>"
      ]
    },
    {
      "cell_type": "markdown",
      "source": [
        "#Classificação\n",
        "\n",
        "É um tipo de classe de algoritmo de Machine Learning, que utiliza base históricas para aprender o comportamento dos dados, traçar linhas que dividem os dados e assim conseguir classifica-los e rotula-los."
      ],
      "metadata": {
        "id": "helIUU6iJWla"
      }
    },
    {
      "cell_type": "markdown",
      "source": [
        "#Naive Bayes\n",
        "Algoritmo de classificação com base em probabilidade que utiliza uma \"Tabela de Probabilidade\" para saber qual a maior chance de um registro se encaixar numa determinada categoria. Quando entra um novo registro, ele irá calcular a combinação das caracteristica em cada uma das classificações.\n",
        "\n",
        "\n",
        "O importante para o Naive Bayes é que as variáveis sejam categóricas."
      ],
      "metadata": {
        "id": "LjsTXzWiGJvF"
      }
    },
    {
      "cell_type": "markdown",
      "source": [
        "#Classificação com dados Desbalanceados."
      ],
      "metadata": {
        "id": "ZZhgyh9pNhVi"
      }
    },
    {
      "cell_type": "markdown",
      "source": [
        "##Importação e visualização"
      ],
      "metadata": {
        "id": "_35bB6t6YgIT"
      }
    },
    {
      "cell_type": "code",
      "source": [
        "import random\n",
        "import pandas as pd\n",
        "import numpy as np\n",
        "import seaborn as sns"
      ],
      "metadata": {
        "id": "K2_o8jAVOL8L"
      },
      "execution_count": null,
      "outputs": []
    },
    {
      "cell_type": "code",
      "source": [
        "data = pd.read_csv('/content/drive/MyDrive/Datasets/credit_data.csv')\n",
        "data"
      ],
      "metadata": {
        "colab": {
          "base_uri": "https://localhost:8080/",
          "height": 424
        },
        "id": "fc1NjWtXOSC5",
        "outputId": "6f513933-6cf5-4adf-a031-de16c479d2c2"
      },
      "execution_count": null,
      "outputs": [
        {
          "output_type": "execute_result",
          "data": {
            "text/plain": [
              "      i#clientid        income        age         loan  c#default\n",
              "0              1  66155.925095  59.017015  8106.532131          0\n",
              "1              2  34415.153966  48.117153  6564.745018          0\n",
              "2              3  57317.170063  63.108049  8020.953296          0\n",
              "3              4  42709.534201  45.751972  6103.642260          0\n",
              "4              5  66952.688845  18.584336  8770.099235          1\n",
              "...          ...           ...        ...          ...        ...\n",
              "1995        1996  59221.044874  48.518179  1926.729397          0\n",
              "1996        1997  69516.127573  23.162104  3503.176156          0\n",
              "1997        1998  44311.449262  28.017167  5522.786693          1\n",
              "1998        1999  43756.056605  63.971796  1622.722598          0\n",
              "1999        2000  69436.579552  56.152617  7378.833599          0\n",
              "\n",
              "[2000 rows x 5 columns]"
            ],
            "text/html": [
              "\n",
              "  <div id=\"df-bc7b2d60-ae9d-49b5-a8ea-baa197ff7651\">\n",
              "    <div class=\"colab-df-container\">\n",
              "      <div>\n",
              "<style scoped>\n",
              "    .dataframe tbody tr th:only-of-type {\n",
              "        vertical-align: middle;\n",
              "    }\n",
              "\n",
              "    .dataframe tbody tr th {\n",
              "        vertical-align: top;\n",
              "    }\n",
              "\n",
              "    .dataframe thead th {\n",
              "        text-align: right;\n",
              "    }\n",
              "</style>\n",
              "<table border=\"1\" class=\"dataframe\">\n",
              "  <thead>\n",
              "    <tr style=\"text-align: right;\">\n",
              "      <th></th>\n",
              "      <th>i#clientid</th>\n",
              "      <th>income</th>\n",
              "      <th>age</th>\n",
              "      <th>loan</th>\n",
              "      <th>c#default</th>\n",
              "    </tr>\n",
              "  </thead>\n",
              "  <tbody>\n",
              "    <tr>\n",
              "      <th>0</th>\n",
              "      <td>1</td>\n",
              "      <td>66155.925095</td>\n",
              "      <td>59.017015</td>\n",
              "      <td>8106.532131</td>\n",
              "      <td>0</td>\n",
              "    </tr>\n",
              "    <tr>\n",
              "      <th>1</th>\n",
              "      <td>2</td>\n",
              "      <td>34415.153966</td>\n",
              "      <td>48.117153</td>\n",
              "      <td>6564.745018</td>\n",
              "      <td>0</td>\n",
              "    </tr>\n",
              "    <tr>\n",
              "      <th>2</th>\n",
              "      <td>3</td>\n",
              "      <td>57317.170063</td>\n",
              "      <td>63.108049</td>\n",
              "      <td>8020.953296</td>\n",
              "      <td>0</td>\n",
              "    </tr>\n",
              "    <tr>\n",
              "      <th>3</th>\n",
              "      <td>4</td>\n",
              "      <td>42709.534201</td>\n",
              "      <td>45.751972</td>\n",
              "      <td>6103.642260</td>\n",
              "      <td>0</td>\n",
              "    </tr>\n",
              "    <tr>\n",
              "      <th>4</th>\n",
              "      <td>5</td>\n",
              "      <td>66952.688845</td>\n",
              "      <td>18.584336</td>\n",
              "      <td>8770.099235</td>\n",
              "      <td>1</td>\n",
              "    </tr>\n",
              "    <tr>\n",
              "      <th>...</th>\n",
              "      <td>...</td>\n",
              "      <td>...</td>\n",
              "      <td>...</td>\n",
              "      <td>...</td>\n",
              "      <td>...</td>\n",
              "    </tr>\n",
              "    <tr>\n",
              "      <th>1995</th>\n",
              "      <td>1996</td>\n",
              "      <td>59221.044874</td>\n",
              "      <td>48.518179</td>\n",
              "      <td>1926.729397</td>\n",
              "      <td>0</td>\n",
              "    </tr>\n",
              "    <tr>\n",
              "      <th>1996</th>\n",
              "      <td>1997</td>\n",
              "      <td>69516.127573</td>\n",
              "      <td>23.162104</td>\n",
              "      <td>3503.176156</td>\n",
              "      <td>0</td>\n",
              "    </tr>\n",
              "    <tr>\n",
              "      <th>1997</th>\n",
              "      <td>1998</td>\n",
              "      <td>44311.449262</td>\n",
              "      <td>28.017167</td>\n",
              "      <td>5522.786693</td>\n",
              "      <td>1</td>\n",
              "    </tr>\n",
              "    <tr>\n",
              "      <th>1998</th>\n",
              "      <td>1999</td>\n",
              "      <td>43756.056605</td>\n",
              "      <td>63.971796</td>\n",
              "      <td>1622.722598</td>\n",
              "      <td>0</td>\n",
              "    </tr>\n",
              "    <tr>\n",
              "      <th>1999</th>\n",
              "      <td>2000</td>\n",
              "      <td>69436.579552</td>\n",
              "      <td>56.152617</td>\n",
              "      <td>7378.833599</td>\n",
              "      <td>0</td>\n",
              "    </tr>\n",
              "  </tbody>\n",
              "</table>\n",
              "<p>2000 rows × 5 columns</p>\n",
              "</div>\n",
              "      <button class=\"colab-df-convert\" onclick=\"convertToInteractive('df-bc7b2d60-ae9d-49b5-a8ea-baa197ff7651')\"\n",
              "              title=\"Convert this dataframe to an interactive table.\"\n",
              "              style=\"display:none;\">\n",
              "        \n",
              "  <svg xmlns=\"http://www.w3.org/2000/svg\" height=\"24px\"viewBox=\"0 0 24 24\"\n",
              "       width=\"24px\">\n",
              "    <path d=\"M0 0h24v24H0V0z\" fill=\"none\"/>\n",
              "    <path d=\"M18.56 5.44l.94 2.06.94-2.06 2.06-.94-2.06-.94-.94-2.06-.94 2.06-2.06.94zm-11 1L8.5 8.5l.94-2.06 2.06-.94-2.06-.94L8.5 2.5l-.94 2.06-2.06.94zm10 10l.94 2.06.94-2.06 2.06-.94-2.06-.94-.94-2.06-.94 2.06-2.06.94z\"/><path d=\"M17.41 7.96l-1.37-1.37c-.4-.4-.92-.59-1.43-.59-.52 0-1.04.2-1.43.59L10.3 9.45l-7.72 7.72c-.78.78-.78 2.05 0 2.83L4 21.41c.39.39.9.59 1.41.59.51 0 1.02-.2 1.41-.59l7.78-7.78 2.81-2.81c.8-.78.8-2.07 0-2.86zM5.41 20L4 18.59l7.72-7.72 1.47 1.35L5.41 20z\"/>\n",
              "  </svg>\n",
              "      </button>\n",
              "      \n",
              "  <style>\n",
              "    .colab-df-container {\n",
              "      display:flex;\n",
              "      flex-wrap:wrap;\n",
              "      gap: 12px;\n",
              "    }\n",
              "\n",
              "    .colab-df-convert {\n",
              "      background-color: #E8F0FE;\n",
              "      border: none;\n",
              "      border-radius: 50%;\n",
              "      cursor: pointer;\n",
              "      display: none;\n",
              "      fill: #1967D2;\n",
              "      height: 32px;\n",
              "      padding: 0 0 0 0;\n",
              "      width: 32px;\n",
              "    }\n",
              "\n",
              "    .colab-df-convert:hover {\n",
              "      background-color: #E2EBFA;\n",
              "      box-shadow: 0px 1px 2px rgba(60, 64, 67, 0.3), 0px 1px 3px 1px rgba(60, 64, 67, 0.15);\n",
              "      fill: #174EA6;\n",
              "    }\n",
              "\n",
              "    [theme=dark] .colab-df-convert {\n",
              "      background-color: #3B4455;\n",
              "      fill: #D2E3FC;\n",
              "    }\n",
              "\n",
              "    [theme=dark] .colab-df-convert:hover {\n",
              "      background-color: #434B5C;\n",
              "      box-shadow: 0px 1px 3px 1px rgba(0, 0, 0, 0.15);\n",
              "      filter: drop-shadow(0px 1px 2px rgba(0, 0, 0, 0.3));\n",
              "      fill: #FFFFFF;\n",
              "    }\n",
              "  </style>\n",
              "\n",
              "      <script>\n",
              "        const buttonEl =\n",
              "          document.querySelector('#df-bc7b2d60-ae9d-49b5-a8ea-baa197ff7651 button.colab-df-convert');\n",
              "        buttonEl.style.display =\n",
              "          google.colab.kernel.accessAllowed ? 'block' : 'none';\n",
              "\n",
              "        async function convertToInteractive(key) {\n",
              "          const element = document.querySelector('#df-bc7b2d60-ae9d-49b5-a8ea-baa197ff7651');\n",
              "          const dataTable =\n",
              "            await google.colab.kernel.invokeFunction('convertToInteractive',\n",
              "                                                     [key], {});\n",
              "          if (!dataTable) return;\n",
              "\n",
              "          const docLinkHtml = 'Like what you see? Visit the ' +\n",
              "            '<a target=\"_blank\" href=https://colab.research.google.com/notebooks/data_table.ipynb>data table notebook</a>'\n",
              "            + ' to learn more about interactive tables.';\n",
              "          element.innerHTML = '';\n",
              "          dataTable['output_type'] = 'display_data';\n",
              "          await google.colab.output.renderOutput(dataTable, element);\n",
              "          const docLink = document.createElement('div');\n",
              "          docLink.innerHTML = docLinkHtml;\n",
              "          element.appendChild(docLink);\n",
              "        }\n",
              "      </script>\n",
              "    </div>\n",
              "  </div>\n",
              "  "
            ]
          },
          "metadata": {},
          "execution_count": 42
        }
      ]
    },
    {
      "cell_type": "markdown",
      "source": [
        "##Tratamento"
      ],
      "metadata": {
        "id": "1b-3UNKoYlLw"
      }
    },
    {
      "cell_type": "code",
      "source": [
        "data.columns = ['IdCliente','renda','idade','emprestimo','pago']\n",
        "\n",
        "data['idade'].fillna(data['idade'].median(), inplace=True)\n",
        "data['idade'] = data['idade'].astype(int)\n",
        "data['idade'].replace([-28,-52,-36], [28,52,36], inplace=True)\n",
        "data['pago'].replace([0,1], [1,0], inplace=True)\n",
        "data.head()"
      ],
      "metadata": {
        "colab": {
          "base_uri": "https://localhost:8080/",
          "height": 206
        },
        "id": "u3kb_vJDPHyY",
        "outputId": "49259d7c-74f8-48c2-bbdf-0f15bdd45d41"
      },
      "execution_count": null,
      "outputs": [
        {
          "output_type": "execute_result",
          "data": {
            "text/plain": [
              "   IdCliente         renda  idade   emprestimo  pago\n",
              "0          1  66155.925095     59  8106.532131     1\n",
              "1          2  34415.153966     48  6564.745018     1\n",
              "2          3  57317.170063     63  8020.953296     1\n",
              "3          4  42709.534201     45  6103.642260     1\n",
              "4          5  66952.688845     18  8770.099235     0"
            ],
            "text/html": [
              "\n",
              "  <div id=\"df-8c41c63a-fae5-4257-9a43-880195c5f453\">\n",
              "    <div class=\"colab-df-container\">\n",
              "      <div>\n",
              "<style scoped>\n",
              "    .dataframe tbody tr th:only-of-type {\n",
              "        vertical-align: middle;\n",
              "    }\n",
              "\n",
              "    .dataframe tbody tr th {\n",
              "        vertical-align: top;\n",
              "    }\n",
              "\n",
              "    .dataframe thead th {\n",
              "        text-align: right;\n",
              "    }\n",
              "</style>\n",
              "<table border=\"1\" class=\"dataframe\">\n",
              "  <thead>\n",
              "    <tr style=\"text-align: right;\">\n",
              "      <th></th>\n",
              "      <th>IdCliente</th>\n",
              "      <th>renda</th>\n",
              "      <th>idade</th>\n",
              "      <th>emprestimo</th>\n",
              "      <th>pago</th>\n",
              "    </tr>\n",
              "  </thead>\n",
              "  <tbody>\n",
              "    <tr>\n",
              "      <th>0</th>\n",
              "      <td>1</td>\n",
              "      <td>66155.925095</td>\n",
              "      <td>59</td>\n",
              "      <td>8106.532131</td>\n",
              "      <td>1</td>\n",
              "    </tr>\n",
              "    <tr>\n",
              "      <th>1</th>\n",
              "      <td>2</td>\n",
              "      <td>34415.153966</td>\n",
              "      <td>48</td>\n",
              "      <td>6564.745018</td>\n",
              "      <td>1</td>\n",
              "    </tr>\n",
              "    <tr>\n",
              "      <th>2</th>\n",
              "      <td>3</td>\n",
              "      <td>57317.170063</td>\n",
              "      <td>63</td>\n",
              "      <td>8020.953296</td>\n",
              "      <td>1</td>\n",
              "    </tr>\n",
              "    <tr>\n",
              "      <th>3</th>\n",
              "      <td>4</td>\n",
              "      <td>42709.534201</td>\n",
              "      <td>45</td>\n",
              "      <td>6103.642260</td>\n",
              "      <td>1</td>\n",
              "    </tr>\n",
              "    <tr>\n",
              "      <th>4</th>\n",
              "      <td>5</td>\n",
              "      <td>66952.688845</td>\n",
              "      <td>18</td>\n",
              "      <td>8770.099235</td>\n",
              "      <td>0</td>\n",
              "    </tr>\n",
              "  </tbody>\n",
              "</table>\n",
              "</div>\n",
              "      <button class=\"colab-df-convert\" onclick=\"convertToInteractive('df-8c41c63a-fae5-4257-9a43-880195c5f453')\"\n",
              "              title=\"Convert this dataframe to an interactive table.\"\n",
              "              style=\"display:none;\">\n",
              "        \n",
              "  <svg xmlns=\"http://www.w3.org/2000/svg\" height=\"24px\"viewBox=\"0 0 24 24\"\n",
              "       width=\"24px\">\n",
              "    <path d=\"M0 0h24v24H0V0z\" fill=\"none\"/>\n",
              "    <path d=\"M18.56 5.44l.94 2.06.94-2.06 2.06-.94-2.06-.94-.94-2.06-.94 2.06-2.06.94zm-11 1L8.5 8.5l.94-2.06 2.06-.94-2.06-.94L8.5 2.5l-.94 2.06-2.06.94zm10 10l.94 2.06.94-2.06 2.06-.94-2.06-.94-.94-2.06-.94 2.06-2.06.94z\"/><path d=\"M17.41 7.96l-1.37-1.37c-.4-.4-.92-.59-1.43-.59-.52 0-1.04.2-1.43.59L10.3 9.45l-7.72 7.72c-.78.78-.78 2.05 0 2.83L4 21.41c.39.39.9.59 1.41.59.51 0 1.02-.2 1.41-.59l7.78-7.78 2.81-2.81c.8-.78.8-2.07 0-2.86zM5.41 20L4 18.59l7.72-7.72 1.47 1.35L5.41 20z\"/>\n",
              "  </svg>\n",
              "      </button>\n",
              "      \n",
              "  <style>\n",
              "    .colab-df-container {\n",
              "      display:flex;\n",
              "      flex-wrap:wrap;\n",
              "      gap: 12px;\n",
              "    }\n",
              "\n",
              "    .colab-df-convert {\n",
              "      background-color: #E8F0FE;\n",
              "      border: none;\n",
              "      border-radius: 50%;\n",
              "      cursor: pointer;\n",
              "      display: none;\n",
              "      fill: #1967D2;\n",
              "      height: 32px;\n",
              "      padding: 0 0 0 0;\n",
              "      width: 32px;\n",
              "    }\n",
              "\n",
              "    .colab-df-convert:hover {\n",
              "      background-color: #E2EBFA;\n",
              "      box-shadow: 0px 1px 2px rgba(60, 64, 67, 0.3), 0px 1px 3px 1px rgba(60, 64, 67, 0.15);\n",
              "      fill: #174EA6;\n",
              "    }\n",
              "\n",
              "    [theme=dark] .colab-df-convert {\n",
              "      background-color: #3B4455;\n",
              "      fill: #D2E3FC;\n",
              "    }\n",
              "\n",
              "    [theme=dark] .colab-df-convert:hover {\n",
              "      background-color: #434B5C;\n",
              "      box-shadow: 0px 1px 3px 1px rgba(0, 0, 0, 0.15);\n",
              "      filter: drop-shadow(0px 1px 2px rgba(0, 0, 0, 0.3));\n",
              "      fill: #FFFFFF;\n",
              "    }\n",
              "  </style>\n",
              "\n",
              "      <script>\n",
              "        const buttonEl =\n",
              "          document.querySelector('#df-8c41c63a-fae5-4257-9a43-880195c5f453 button.colab-df-convert');\n",
              "        buttonEl.style.display =\n",
              "          google.colab.kernel.accessAllowed ? 'block' : 'none';\n",
              "\n",
              "        async function convertToInteractive(key) {\n",
              "          const element = document.querySelector('#df-8c41c63a-fae5-4257-9a43-880195c5f453');\n",
              "          const dataTable =\n",
              "            await google.colab.kernel.invokeFunction('convertToInteractive',\n",
              "                                                     [key], {});\n",
              "          if (!dataTable) return;\n",
              "\n",
              "          const docLinkHtml = 'Like what you see? Visit the ' +\n",
              "            '<a target=\"_blank\" href=https://colab.research.google.com/notebooks/data_table.ipynb>data table notebook</a>'\n",
              "            + ' to learn more about interactive tables.';\n",
              "          element.innerHTML = '';\n",
              "          dataTable['output_type'] = 'display_data';\n",
              "          await google.colab.output.renderOutput(dataTable, element);\n",
              "          const docLink = document.createElement('div');\n",
              "          docLink.innerHTML = docLinkHtml;\n",
              "          element.appendChild(docLink);\n",
              "        }\n",
              "      </script>\n",
              "    </div>\n",
              "  </div>\n",
              "  "
            ]
          },
          "metadata": {},
          "execution_count": 43
        }
      ]
    },
    {
      "cell_type": "markdown",
      "source": [
        "##Análise"
      ],
      "metadata": {
        "id": "SyvD6iQ2Yq9U"
      }
    },
    {
      "cell_type": "code",
      "source": [
        "sns.countplot(x=data['pago']);"
      ],
      "metadata": {
        "colab": {
          "base_uri": "https://localhost:8080/",
          "height": 279
        },
        "id": "wr24fUg2Pl5h",
        "outputId": "a0568d0e-1f34-41da-9abd-ddc547da6241"
      },
      "execution_count": null,
      "outputs": [
        {
          "output_type": "display_data",
          "data": {
            "text/plain": [
              "<Figure size 432x288 with 1 Axes>"
            ],
            "image/png": "[encoded data removed]"
          },
          "metadata": {
            "needs_background": "light"
          }
        }
      ]
    },
    {
      "cell_type": "markdown",
      "source": [
        " 0 -> Não Pagos\n",
        "\n",
        " 1 -> Pagos\n",
        "- Uma base de dados desbalanceada pode fazer o algoritmo aprender a lidar com a situação de uma forma errada, que não representa a realidade. Nesse caso, como a maioria dos clientes são pagantes, ele pode aprender que quase todos os clientes futuros irão pagar, liberando assim o crédito de uma maneira muito fácil e podendo dar prejuizo ao banco."
      ],
      "metadata": {
        "id": "_O5sLpjpXSGt"
      }
    },
    {
      "cell_type": "markdown",
      "source": [
        "## Divisão da base"
      ],
      "metadata": {
        "id": "GPlII4q4Yuki"
      }
    },
    {
      "cell_type": "markdown",
      "source": [
        "É necessário fazer uma divisão dos dados para o treinamento do algoritmo, criando duas bases de dados, uma com as variáveis que influenciam no resultado (Variáveis independentes) e outra apenas com as respostas (Variáveis dependentes)."
      ],
      "metadata": {
        "id": "7BY7MSnHusKf"
      }
    },
    {
      "cell_type": "code",
      "source": [
        "from sklearn.model_selection import train_test_split"
      ],
      "metadata": {
        "id": "MwniFmqZEA1n"
      },
      "execution_count": null,
      "outputs": []
    },
    {
      "cell_type": "code",
      "source": [
        "copy = data.copy()\n",
        "x = copy.drop(columns = ['IdCliente','pago'])\n",
        "y = copy['pago']\n",
        "x.shape, y.shape"
      ],
      "metadata": {
        "colab": {
          "base_uri": "https://localhost:8080/"
        },
        "id": "8QZHDjpUxGBS",
        "outputId": "6272035c-dd86-4518-b0b7-72ba44ff3d60"
      },
      "execution_count": null,
      "outputs": [
        {
          "output_type": "execute_result",
          "data": {
            "text/plain": [
              "((2000, 3), (2000,))"
            ]
          },
          "metadata": {},
          "execution_count": 46
        }
      ]
    },
    {
      "cell_type": "markdown",
      "source": [
        "De pois de dividir as duas bases de dados, agora fazemos mais uma divisão entre os dados de treino e os dados de teste."
      ],
      "metadata": {
        "id": "prYj23YFvOY6"
      }
    },
    {
      "cell_type": "code",
      "source": [
        "x_train,x_test, y_train,y_test = train_test_split(x, y, test_size=0.2, stratify=y)\n",
        "\n",
        "x_train.shape, x_test.shape, y_train.shape, y_test.shape"
      ],
      "metadata": {
        "id": "-RtyKEc3cjAA",
        "colab": {
          "base_uri": "https://localhost:8080/"
        },
        "outputId": "9b95bf3a-6865-4525-a78a-55e49cf08c7d"
      },
      "execution_count": null,
      "outputs": [
        {
          "output_type": "execute_result",
          "data": {
            "text/plain": [
              "((1600, 3), (400, 3), (1600,), (400,))"
            ]
          },
          "metadata": {},
          "execution_count": 47
        }
      ]
    },
    {
      "cell_type": "markdown",
      "source": [
        "##Naive Bayes"
      ],
      "metadata": {
        "id": "rpYQnIyF7BmR"
      }
    },
    {
      "cell_type": "code",
      "source": [
        "from sklearn.naive_bayes import GaussianNB\n",
        "from sklearn.metrics import accuracy_score\n",
        "from sklearn.metrics import confusion_matrix\n",
        "from sklearn.metrics import classification_report"
      ],
      "metadata": {
        "id": "pyJeybbU18qq"
      },
      "execution_count": null,
      "outputs": []
    },
    {
      "cell_type": "code",
      "source": [
        "# Criação e treinamento do modelo\n",
        "modelo =  GaussianNB()\n",
        "modelo.fit(x_train, y_train)\n",
        "\n",
        "# Previsões\n",
        "previsoes = modelo.predict(x_test)\n",
        "\n",
        "# Teste de acurácia para ver como o modelo se saiu\n",
        "display(accuracy_score(y_test, previsoes))"
      ],
      "metadata": {
        "colab": {
          "base_uri": "https://localhost:8080/",
          "height": 34
        },
        "id": "D8jT9ull43fk",
        "outputId": "425123a5-4646-45bb-90be-93c18c642db9"
      },
      "execution_count": null,
      "outputs": [
        {
          "output_type": "display_data",
          "data": {
            "text/plain": [
              "0.91"
            ]
          },
          "metadata": {}
        }
      ]
    },
    {
      "cell_type": "markdown",
      "source": [
        "- A Acurácia é a média global do acerto do modelo ao classificar as classes, pode ser calculada através da razão (VN+VP)/(VP+FN+VN+FP).\n",
        "\n",
        "- A acuracia não é a melhor métrica para avaliar um modelo quando os dados estão desbalanceados."
      ],
      "metadata": {
        "id": "n3UZi1eKM5kH"
      }
    },
    {
      "cell_type": "code",
      "source": [
        "cm = confusion_matrix(y_test, previsoes)\n",
        "sns.heatmap(cm,annot=True,fmt='.3g').xaxis.tick_top()"
      ],
      "metadata": {
        "colab": {
          "base_uri": "https://localhost:8080/",
          "height": 265
        },
        "id": "hvtViHp36wxG",
        "outputId": "08c62f11-995f-4ea8-8c08-d64697614cbc"
      },
      "execution_count": null,
      "outputs": [
        {
          "output_type": "display_data",
          "data": {
            "text/plain": [
              "<Figure size 432x288 with 2 Axes>"
            ],
            "image/png": "[encoded data removed]"
          },
          "metadata": {
            "needs_background": "light"
          }
        }
      ]
    },
    {
      "cell_type": "markdown",
      "source": [
        "- A matrix de confusão nos ajuda a visualizar melhor os acertos e erros do modelo."
      ],
      "metadata": {
        "id": "MiuncPtJNRC1"
      }
    },
    {
      "cell_type": "code",
      "source": [
        "# Essa é a ordem na classificação binária da confusion_matrix\n",
        "vn = cm[0][0]\n",
        "fn = cm[1][0]\n",
        "vp = cm[1][1]\n",
        "fp = cm[0][1]\n",
        "print(cm)\n",
        "print(f\"VP = {vp}\")\n",
        "print(f\"FP = {fp}\")\n",
        "print(f\"VN = {vn}\")\n",
        "print(f\"FN = {fn}\")"
      ],
      "metadata": {
        "colab": {
          "base_uri": "https://localhost:8080/"
        },
        "id": "nrroZLekTu5m",
        "outputId": "63fb756f-1cf9-4611-8450-46e694557d1b"
      },
      "execution_count": null,
      "outputs": [
        {
          "output_type": "stream",
          "name": "stdout",
          "text": [
            "[[ 32  25]\n",
            " [ 11 332]]\n",
            "VP = 332\n",
            "FP = 25\n",
            "VN = 32\n",
            "FN = 11\n"
          ]
        }
      ]
    },
    {
      "cell_type": "code",
      "source": [
        "# Formula da média global de acertos (Acuracy)\n",
        "(vp + vn) / (vp + fp + vn + fn)"
      ],
      "metadata": {
        "colab": {
          "base_uri": "https://localhost:8080/"
        },
        "id": "sP1_DWkITPks",
        "outputId": "ccafba19-8c9a-4da1-9df9-796d737692d7"
      },
      "execution_count": null,
      "outputs": [
        {
          "output_type": "execute_result",
          "data": {
            "text/plain": [
              "0.91"
            ]
          },
          "metadata": {},
          "execution_count": 52
        }
      ]
    },
    {
      "cell_type": "code",
      "source": [
        "# Percentual de pessoas que pagaram o emprestimo (precision)\n",
        "round((vp) / (vp + fp), 2)"
      ],
      "metadata": {
        "colab": {
          "base_uri": "https://localhost:8080/"
        },
        "id": "l91GS87_OqYB",
        "outputId": "5bad238d-37bc-4571-c56c-13454112db81"
      },
      "execution_count": null,
      "outputs": [
        {
          "output_type": "execute_result",
          "data": {
            "text/plain": [
              "0.93"
            ]
          },
          "metadata": {},
          "execution_count": 53
        }
      ]
    },
    {
      "cell_type": "code",
      "source": [
        "# Percentual de pessoas que não pagaram o emprestimo (precision)\n",
        "round((vn) / (vn + fn), 2)"
      ],
      "metadata": {
        "id": "AYVBs4bMOqP7",
        "colab": {
          "base_uri": "https://localhost:8080/"
        },
        "outputId": "a528ee98-90be-4d68-9962-7da1b123931b"
      },
      "execution_count": null,
      "outputs": [
        {
          "output_type": "execute_result",
          "data": {
            "text/plain": [
              "0.74"
            ]
          },
          "metadata": {},
          "execution_count": 54
        }
      ]
    },
    {
      "cell_type": "code",
      "source": [
        "print(classification_report(y_test, previsoes))"
      ],
      "metadata": {
        "id": "fCtrIMLB_R6o",
        "colab": {
          "base_uri": "https://localhost:8080/"
        },
        "outputId": "c3aa0a50-5a83-44ff-9246-c1f877633df9"
      },
      "execution_count": null,
      "outputs": [
        {
          "output_type": "stream",
          "name": "stdout",
          "text": [
            "              precision    recall  f1-score   support\n",
            "\n",
            "           0       0.74      0.56      0.64        57\n",
            "           1       0.93      0.97      0.95       343\n",
            "\n",
            "    accuracy                           0.91       400\n",
            "   macro avg       0.84      0.76      0.79       400\n",
            "weighted avg       0.90      0.91      0.90       400\n",
            "\n"
          ]
        }
      ]
    },
    {
      "cell_type": "markdown",
      "source": [
        "Aqui, podemos ver algumas outras métricas do modelo para avaliar seu desempenho.\n",
        "\n",
        "- Precision: É intuitivamente a capacidade do classificador de não rotular como positiva uma amostra que é negativa: VP / (VP + FP)\n",
        " - Valor preditivo positivo: VP/(VP+FP)\n",
        " - Valor preditivo negativo: VN/(VN+FN)\n",
        "\n",
        "---\n",
        "\n",
        "- Recall: É intuitivamente a capacidade do classificador de encontrar todas as amostras positivas: VP / (VP + FN)\n",
        " - Sensibilidade: VP/(VP+FN)\n",
        " - Especificidade: VN/(VN+FP)\n",
        "\n",
        "---\n",
        " - F1-Score: É a média harmônica entre o Recall e Precision, ou seja, ela resume as informações dessas duas métricas."
      ],
      "metadata": {
        "id": "o1NPj-aYOKYQ"
      }
    },
    {
      "cell_type": "markdown",
      "source": [
        "# Aplicação de Caso\n",
        "\n",
        "Vamos supor que existem uma lista de 1000 clientes que não irão pagar o emprestimo, cada emprestimo não pago gera um prejuizo de $5000. Usando o modelo atual nos 1000 clientes, ele teria uma taxa de acerto de 80%.\n",
        "\n",
        "Ou seja, de 1000 pessoas, 200 receberiam o crédito, gerando assim um prejuizo de $1,000,000."
      ],
      "metadata": {
        "id": "umMSY6WgE5cH"
      }
    },
    {
      "cell_type": "code",
      "source": [
        "from sklearn.metrics import precision_score\n",
        "\n",
        "# Precisão valores negativos\n",
        "ps = precision_score(y_test, previsoes, pos_label=0)\n",
        "\n",
        "# Porcentagem de erro da precisão\n",
        "ps_erro = round(1 - ps, 2)\n",
        "\n",
        "# Quantidade de pessoas não pagantes que receberiam o credito errado\n",
        "qnt_pessoas_cred_erro = ps_erro * 1000\n",
        "\n",
        "# Prejuizo que o banco receberia aprovando credito para essas pessoas\n",
        "qnt_pessoas_cred_erro * 5000"
      ],
      "metadata": {
        "colab": {
          "base_uri": "https://localhost:8080/"
        },
        "id": "4DeeDLwlkaAm",
        "outputId": "604d4524-dc25-42a6-b1b4-057348689499"
      },
      "execution_count": null,
      "outputs": [
        {
          "output_type": "execute_result",
          "data": {
            "text/plain": [
              "1300000.0"
            ]
          },
          "metadata": {},
          "execution_count": 56
        }
      ]
    },
    {
      "cell_type": "markdown",
      "source": [
        "Nesse caso, o valor do prejuizo foi de $1.300.000\n",
        "\n",
        "O objetivo é otimizar o modelo para diminuir esse valor."
      ],
      "metadata": {
        "id": "tJ4_L-ziXEi5"
      }
    },
    {
      "cell_type": "markdown",
      "source": [
        "#Undersampling\n",
        "\n",
        "A subamostragem é uma técnica para lidar com dados desbalanceados, onde se é usado um método para igualar a quantidade de registros de uma determinada classe.\n",
        "\n",
        "Na subamostragem, é selecionado uma amostra da classe majoritária, dando origem a uma nova base onde as duas classes tem a mesma quantidade de registro."
      ],
      "metadata": {
        "id": "l0sgOr3DRuuU"
      }
    },
    {
      "cell_type": "code",
      "source": [
        "from imblearn.under_sampling import TomekLinks\n",
        "\n",
        "tl = TomekLinks(sampling_strategy='majority')\n",
        "x_under, y_under = tl.fit_resample(x,y)\n",
        "\n",
        "# Treinamento do algoritmo\n",
        "x_train_under, x_test_under, y_train_under, y_test_under = train_test_split(x_under, y_under,\n",
        "                                                                            test_size=0.2,\n",
        "                                                                            stratify=y_under)\n",
        "modelo_under = GaussianNB()\n",
        "modelo_under.fit(x_train_under, y_train_under)\n",
        "previsoes_under = modelo_under.predict(x_test_under)\n",
        "\n",
        "# Visualizações\n",
        "print('-'*50)\n",
        "print(classification_report(y_test_under,previsoes_under))\n",
        "print('-'*50)\n",
        "cm_under = confusion_matrix(y_test_under, previsoes_under)\n",
        "sns.heatmap(cm_under,annot=True,fmt='.3g').xaxis.tick_top()"
      ],
      "metadata": {
        "colab": {
          "base_uri": "https://localhost:8080/",
          "height": 456
        },
        "id": "2e9QfzYzU0fC",
        "outputId": "739c5222-15b0-405e-dd5d-a672ddccce9c"
      },
      "execution_count": null,
      "outputs": [
        {
          "output_type": "stream",
          "name": "stdout",
          "text": [
            "--------------------------------------------------\n",
            "              precision    recall  f1-score   support\n",
            "\n",
            "           0       0.77      0.63      0.69        57\n",
            "           1       0.94      0.97      0.95       323\n",
            "\n",
            "    accuracy                           0.92       380\n",
            "   macro avg       0.85      0.80      0.82       380\n",
            "weighted avg       0.91      0.92      0.91       380\n",
            "\n",
            "--------------------------------------------------\n"
          ]
        },
        {
          "output_type": "display_data",
          "data": {
            "text/plain": [
              "<Figure size 432x288 with 2 Axes>"
            ],
            "image/png": "[encoded data removed]"
          },
          "metadata": {
            "needs_background": "light"
          }
        }
      ]
    },
    {
      "cell_type": "code",
      "source": [
        "# Precisão valores negativos\n",
        "ps = precision_score(y_test_under, previsoes_under, pos_label=0)\n",
        "\n",
        "# Porcentagem de erro da precisão\n",
        "ps_erro = round(1 - ps, 2)\n",
        "\n",
        "# Quantidade de pessoas não pagantes que receberiam o credito errado\n",
        "qnt_pessoas_cred_erro = ps_erro * 1000\n",
        "\n",
        "# Prejuizo que o banco receberia aprovando credito para essas pessoas\n",
        "qnt_pessoas_cred_erro * 5000"
      ],
      "metadata": {
        "colab": {
          "base_uri": "https://localhost:8080/"
        },
        "id": "ie5omz6pkT6D",
        "outputId": "436378f6-2df3-4d5f-9d2c-1168bcabea78"
      },
      "execution_count": null,
      "outputs": [
        {
          "output_type": "execute_result",
          "data": {
            "text/plain": [
              "1150000.0"
            ]
          },
          "metadata": {},
          "execution_count": 58
        }
      ]
    },
    {
      "cell_type": "markdown",
      "source": [
        "Usando o metodo de subamostragem, o algoritmo obteve uma melhora leve, diminuindo o valor do prejuizo para $1.150.000\n",
        "\n",
        "$150.000 a menos."
      ],
      "metadata": {
        "id": "rMcmhpE1YoF6"
      }
    },
    {
      "cell_type": "markdown",
      "source": [
        "# Oversampling\n",
        "\n",
        "A sobreamostragem é uma técnica para lidar com dados desbalanceados, assim como a subamostragem, mas nesse caso, ao inves de diminuir a classe majoritária para que ela se equilibre com a classe minoritária, se multiplica a quantidade de registros da classe minoritária até que fique igual com a classe majoritária, usando métodos que fazem registros sintéticos parecido com os registros originais da classe mais rara."
      ],
      "metadata": {
        "id": "mEu36QFHTSwO"
      }
    },
    {
      "cell_type": "code",
      "source": [
        "from imblearn.over_sampling import SMOTE\n",
        "\n",
        "sm = SMOTE(sampling_strategy='minority')\n",
        "x_over, y_over = sm.fit_resample(x,y)\n",
        "\n",
        "x_train_over, x_test_over, y_train_over, y_test_over = train_test_split(x_over,y_over,\n",
        "                                                                        test_size=0.2,\n",
        "                                                                        stratify = y_over)\n",
        "modelo_over = GaussianNB()\n",
        "modelo_over.fit(x_train_over, y_train_over)\n",
        "previsoes_over = modelo_over.predict(x_test_over)\n",
        "\n",
        "print('-' * 50)\n",
        "print(classification_report(y_test_over, previsoes_over))\n",
        "print('-' * 50)\n",
        "cm = confusion_matrix(y_test_over, previsoes_over)\n",
        "sns.heatmap(cm, annot=True,fmt='.3g')"
      ],
      "metadata": {
        "id": "9dD7Y0ebRuSb",
        "colab": {
          "base_uri": "https://localhost:8080/",
          "height": 473
        },
        "outputId": "559b110d-9adf-4aac-d2f8-8cb754cb09c7"
      },
      "execution_count": null,
      "outputs": [
        {
          "output_type": "stream",
          "name": "stdout",
          "text": [
            "--------------------------------------------------\n",
            "              precision    recall  f1-score   support\n",
            "\n",
            "           0       0.87      0.94      0.90       344\n",
            "           1       0.93      0.85      0.89       343\n",
            "\n",
            "    accuracy                           0.90       687\n",
            "   macro avg       0.90      0.90      0.90       687\n",
            "weighted avg       0.90      0.90      0.90       687\n",
            "\n",
            "--------------------------------------------------\n"
          ]
        },
        {
          "output_type": "execute_result",
          "data": {
            "text/plain": [
              "<Axes: >"
            ]
          },
          "metadata": {},
          "execution_count": 59
        },
        {
          "output_type": "display_data",
          "data": {
            "text/plain": [
              "<Figure size 432x288 with 2 Axes>"
            ],
            "image/png": "[encoded data removed]"
          },
          "metadata": {
            "needs_background": "light"
          }
        }
      ]
    },
    {
      "cell_type": "code",
      "source": [
        "# Precisão valores negativos\n",
        "ps = precision_score(y_test_over, previsoes_over, pos_label=0)\n",
        "\n",
        "# Porcentagem de erro da precisão\n",
        "ps_erro = round(1 - ps, 2)\n",
        "\n",
        "# Quantidade de pessoas não pagantes que receberiam o credito errado\n",
        "qnt_pessoas_cred_erro = ps_erro * 1000\n",
        "\n",
        "# Prejuizo que o banco receberia aprovando credito para essas pessoas\n",
        "qnt_pessoas_cred_erro * 5000"
      ],
      "metadata": {
        "id": "7Bfzq456FT-s",
        "colab": {
          "base_uri": "https://localhost:8080/"
        },
        "outputId": "a86e4f5b-f7b1-4bfe-95b1-cac9571070ba"
      },
      "execution_count": null,
      "outputs": [
        {
          "output_type": "execute_result",
          "data": {
            "text/plain": [
              "650000.0"
            ]
          },
          "metadata": {},
          "execution_count": 60
        }
      ]
    },
    {
      "cell_type": "markdown",
      "source": [
        "Utilizando o metodo de sobreamostragem, o algoritmo obteve uma melhora nos seus resultado, fazendo o valor do prejuizo ser de $650.000, o melhor resultado dos três teste, reduzindo o valor do prejuizo pela metade!"
      ],
      "metadata": {
        "id": "1BaU0zChJBar"
      }
    }
  ]
}